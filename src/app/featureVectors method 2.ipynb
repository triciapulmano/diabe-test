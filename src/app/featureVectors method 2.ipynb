{
 "cells": [
  {
   "cell_type": "code",
   "execution_count": null,
   "id": "b9243fca",
   "metadata": {},
   "outputs": [],
   "source": [
    "import pandas as pd\n",
    "import numpy as np\n",
    "import matplotlib.pyplot as plt"
   ]
  },
  {
   "cell_type": "code",
   "execution_count": 23,
   "id": "28071cde",
   "metadata": {},
   "outputs": [
    {
     "data": {
      "text/plain": [
       "0    64\n",
       "1    32\n",
       "Name: target, dtype: int64"
      ]
     },
     "execution_count": 23,
     "metadata": {},
     "output_type": "execute_result"
    }
   ],
   "source": [
    "cell_df = pd.read_csv('/Users/lesternielsalvador/Desktop/featureVectors.csv')\n",
    "cell_df.tail()\n",
    "cell_df.shape\n",
    "cell_df.size\n",
    "cell_df.count()\n",
    "cell_df['target'].value_counts()"
   ]
  },
  {
   "cell_type": "code",
   "execution_count": 55,
   "id": "090f4e0a",
   "metadata": {},
   "outputs": [
    {
     "data": {
      "text/plain": [
       "<AxesSubplot:xlabel='mean', ylabel='enropy'>"
      ]
     },
     "execution_count": 55,
     "metadata": {},
     "output_type": "execute_result"
    },
    {
     "data": {
      "image/png": "[encoded data removed]",
      "text/plain": [
       "<Figure size 432x288 with 1 Axes>"
      ]
     },
     "metadata": {
      "needs_background": "light"
     },
     "output_type": "display_data"
    }
   ],
   "source": [
    "nondiabetic_df = cell_df[cell_df['target']==0][2:97]\n",
    "diabetic_df = cell_df[cell_df['target']==1][2:97]\n",
    "\n",
    "axes = nondiabetic_df.plot(kind='scatter', x='mean', y='enropy', color='blue', label='nondiabetic')\n",
    "\n",
    "diabetic_df.plot(kind='scatter', x='mean', y='enropy', color='red', label='diabetic', ax=axes)\n",
    "#help(nondiabetic_df.plot)"
   ]
  },
  {
   "cell_type": "code",
   "execution_count": 58,
   "id": "de779bf2",
   "metadata": {},
   "outputs": [
    {
     "data": {
      "text/plain": [
       "Unnamed: 0      object\n",
       "mean             int64\n",
       "variance         int64\n",
       "kurtosis         int64\n",
       "std              int64\n",
       "enropy           int64\n",
       "skewness         int64\n",
       "target           int64\n",
       "Target names    object\n",
       "dtype: object"
      ]
     },
     "execution_count": 58,
     "metadata": {},
     "output_type": "execute_result"
    }
   ],
   "source": [
    "cell_df.dtypes\n",
    "\n",
    "cell_df=cell_df[pd.to_numeric(cell_df['mean'], errors='coerce').notnull()]\n",
    "cell_df['mean']=cell_df['mean'].astype('int')\n",
    "cell_df=cell_df[pd.to_numeric(cell_df['variance'], errors='coerce').notnull()]\n",
    "cell_df['variance']=cell_df['variance'].astype('int')\n",
    "cell_df=cell_df[pd.to_numeric(cell_df['kurtosis'], errors='coerce').notnull()]\n",
    "cell_df['kurtosis']=cell_df['kurtosis'].astype('int')\n",
    "cell_df=cell_df[pd.to_numeric(cell_df['std'], errors='coerce').notnull()]\n",
    "cell_df['std']=cell_df['std'].astype('int')\n",
    "cell_df=cell_df[pd.to_numeric(cell_df['enropy'], errors='coerce').notnull()]\n",
    "cell_df['enropy']=cell_df['enropy'].astype('int')\n",
    "cell_df=cell_df[pd.to_numeric(cell_df['skewness'], errors='coerce').notnull()]\n",
    "cell_df['skewness']=cell_df['skewness'].astype('int')\n",
    "cell_df.dtypes"
   ]
  },
  {
   "cell_type": "code",
   "execution_count": 59,
   "id": "67e35611",
   "metadata": {},
   "outputs": [
    {
     "data": {
      "text/plain": [
       "array([0, 0, 0, 0, 0])"
      ]
     },
     "execution_count": 59,
     "metadata": {},
     "output_type": "execute_result"
    }
   ],
   "source": [
    "cell_df.columns\n",
    "\n",
    "feature_df=cell_df[['mean', 'variance', 'kurtosis', 'std', 'enropy',\n",
    "       'skewness']]\n",
    "\n",
    "x = np.asarray(feature_df)\n",
    "y = np.asarray(cell_df['target'])\n",
    "\n",
    "y[0:5]"
   ]
  },
  {
   "cell_type": "code",
   "execution_count": 60,
   "id": "8928b875",
   "metadata": {},
   "outputs": [
    {
     "data": {
      "text/plain": [
       "(19,)"
      ]
     },
     "execution_count": 60,
     "metadata": {},
     "output_type": "execute_result"
    }
   ],
   "source": [
    "from sklearn.model_selection import train_test_split\n",
    "\n",
    "x_train, x_test, y_train, y_test =train_test_split(x,y, test_size = 0.2, random_state = 4)\n",
    "\n",
    "#72 x 6\n",
    "x_train.shape\n",
    "\n",
    "#72 x 1\n",
    "y_train.shape\n",
    "\n",
    "#19 x 6\n",
    "x_test.shape\n",
    "\n",
    "#19 x 1\n",
    "y_test.shape"
   ]
  },
  {
   "cell_type": "code",
   "execution_count": null,
   "id": "98d874c9",
   "metadata": {},
   "outputs": [],
   "source": [
    "from sklearn import svm\n",
    "\n",
    "classifier = svm.SVC(kernel='linear', gamma='auto', C=1)\n",
    "classifier.fit(x_train, y_train)\n",
    "\n",
    "y_predict=classifier.predict(x_test)"
   ]
  },
  {
   "cell_type": "code",
   "execution_count": null,
   "id": "766ca549",
   "metadata": {},
   "outputs": [],
   "source": [
    "from sklearn.metrics import classification_report\n",
    "\n",
    "print(classification_report(y_test, y_predict))"
   ]
  },
  {
   "cell_type": "code",
   "execution_count": null,
   "id": "7fe47c4f",
   "metadata": {},
   "outputs": [],
   "source": []
  }
 ],
 "metadata": {
  "kernelspec": {
   "display_name": "Julia 1.6.2",
   "language": "julia",
   "name": "julia-1.6"
  },
  "language_info": {
   "codemirror_mode": {
    "name": "ipython",
    "version": 3
   },
   "file_extension": ".py",
   "mimetype": "text/x-python",
   "name": "julia",
   "nbconvert_exporter": "python",
   "pygments_lexer": "ipython3",
   "version": "3.8.8"
  }
 },
 "nbformat": 4,
 "nbformat_minor": 5
}
