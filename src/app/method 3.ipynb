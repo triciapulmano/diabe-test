{
 "cells": [
  {
   "cell_type": "code",
   "execution_count": 2,
   "id": "49cf5b7a",
   "metadata": {},
   "outputs": [],
   "source": [
    "import pandas as pd\n",
    "import numpy as np\n",
    "import matplotlib.pyplot as plt"
   ]
  },
  {
   "cell_type": "code",
   "execution_count": 3,
   "id": "f1c52e61",
   "metadata": {},
   "outputs": [
    {
     "data": {
      "text/plain": [
       "target\n",
       "0    16\n",
       "1     8\n",
       "Name: count, dtype: int64"
      ]
     },
     "execution_count": 3,
     "metadata": {},
     "output_type": "execute_result"
    }
   ],
   "source": [
    "cell_df = pd.read_csv(r\"D:\\downloads dump\\featureVectorsMethod3.csv\")\n",
    "cell_df.tail()\n",
    "cell_df.shape\n",
    "cell_df.size\n",
    "cell_df.count()\n",
    "cell_df['target'].value_counts()"
   ]
  },
  {
   "cell_type": "code",
   "execution_count": 4,
   "id": "38e97a6b",
   "metadata": {},
   "outputs": [
    {
     "data": {
      "text/plain": [
       "<Axes: xlabel='Mean forehead', ylabel='Mean nose'>"
      ]
     },
     "execution_count": 4,
     "metadata": {},
     "output_type": "execute_result"
    },
    {
     "data": {
      "image/png": "[encoded data removed]",
      "text/plain": [
       "<Figure size 640x480 with 1 Axes>"
      ]
     },
     "metadata": {},
     "output_type": "display_data"
    }
   ],
   "source": [
    "nondiabetic_df = cell_df[cell_df['target']==0][2:25]\n",
    "diabetic_df = cell_df[cell_df['target']==1][2:25]\n",
    "\n",
    "axes = nondiabetic_df.plot(kind='scatter', x='Mean forehead', y='Mean nose', color='blue', label='nondiabetic')\n",
    "\n",
    "diabetic_df.plot(kind='scatter', x='Mean forehead', y='Mean nose', color='red', label='diabetic', ax=axes)\n",
    "#help(nondiabetic_df.plot)"
   ]
  },
  {
   "cell_type": "code",
   "execution_count": 5,
   "id": "95551d29",
   "metadata": {},
   "outputs": [
    {
     "data": {
      "text/plain": [
       "Unnamed: 0           int64\n",
       "Mean forehead        int32\n",
       "Mean nose            int32\n",
       "Mean left cheek      int32\n",
       "Mean right cheek     int32\n",
       "target               int64\n",
       "Target name         object\n",
       "dtype: object"
      ]
     },
     "execution_count": 5,
     "metadata": {},
     "output_type": "execute_result"
    }
   ],
   "source": [
    "cell_df.dtypes\n",
    "\n",
    "cell_df=cell_df[pd.to_numeric(cell_df['Mean forehead'], errors='coerce').notnull()]\n",
    "cell_df['Mean forehead']=cell_df['Mean forehead'].astype('int')\n",
    "cell_df=cell_df[pd.to_numeric(cell_df['Mean nose'], errors='coerce').notnull()]\n",
    "cell_df['Mean nose']=cell_df['Mean nose'].astype('int')\n",
    "cell_df=cell_df[pd.to_numeric(cell_df['Mean left cheek'], errors='coerce').notnull()]\n",
    "cell_df['Mean left cheek']=cell_df['Mean left cheek'].astype('int')\n",
    "cell_df=cell_df[pd.to_numeric(cell_df['Mean right cheek'], errors='coerce').notnull()]\n",
    "cell_df['Mean right cheek']=cell_df['Mean right cheek'].astype('int')\n",
    "cell_df.dtypes"
   ]
  },
  {
   "cell_type": "code",
   "execution_count": 6,
   "id": "200e0e7a",
   "metadata": {},
   "outputs": [
    {
     "data": {
      "text/plain": [
       "array([[1, 0, 0, 1],\n",
       "       [1, 1, 1, 0],\n",
       "       [1, 1, 1, 1],\n",
       "       [5, 2, 1, 1],\n",
       "       [1, 1, 1, 1]])"
      ]
     },
     "execution_count": 6,
     "metadata": {},
     "output_type": "execute_result"
    }
   ],
   "source": [
    "cell_df.columns\n",
    "\n",
    "feature_df=cell_df[['Mean forehead', 'Mean left cheek', 'Mean nose', 'Mean right cheek']]\n",
    "\n",
    "x = np.asarray(feature_df)\n",
    "y = np.asarray(cell_df['target'])\n",
    "\n",
    "x[0:5]"
   ]
  },
  {
   "cell_type": "code",
   "execution_count": 7,
   "id": "d551b953",
   "metadata": {},
   "outputs": [
    {
     "data": {
      "text/plain": [
       "(5,)"
      ]
     },
     "execution_count": 7,
     "metadata": {},
     "output_type": "execute_result"
    }
   ],
   "source": [
    "from sklearn.model_selection import train_test_split\n",
    "\n",
    "x_train, x_test, y_train, y_test =train_test_split(x,y, test_size = 0.2, random_state = 4)\n",
    "\n",
    "#19 x 4\n",
    "x_train.shape\n",
    "\n",
    "#19 x 1\n",
    "y_train.shape\n",
    "\n",
    "#5 x 4\n",
    "x_test.shape\n",
    "\n",
    "#5 x 1\n",
    "y_test.shape"
   ]
  },
  {
   "cell_type": "code",
   "execution_count": 8,
   "id": "cfc9052f",
   "metadata": {},
   "outputs": [],
   "source": [
    "from sklearn import svm\n",
    "\n",
    "classifier = svm.SVC(kernel='linear', gamma='auto', C=1)\n",
    "classifier.fit(x_train, y_train)\n",
    "\n",
    "y_predict=classifier.predict(x_test)"
   ]
  },
  {
   "cell_type": "code",
   "execution_count": 9,
   "id": "b13ce306",
   "metadata": {},
   "outputs": [
    {
     "name": "stdout",
     "output_type": "stream",
     "text": [
      "              precision    recall  f1-score   support\n",
      "\n",
      "           0       0.75      1.00      0.86         3\n",
      "           1       1.00      0.50      0.67         2\n",
      "\n",
      "    accuracy                           0.80         5\n",
      "   macro avg       0.88      0.75      0.76         5\n",
      "weighted avg       0.85      0.80      0.78         5\n",
      "\n"
     ]
    }
   ],
   "source": [
    "from sklearn.metrics import classification_report\n",
    "\n",
    "print(classification_report(y_test, y_predict))"
   ]
  },
  {
   "cell_type": "code",
   "execution_count": 12,
   "id": "d2da759a",
   "metadata": {},
   "outputs": [],
   "source": [
    "import pickle\n",
    "\n",
    "# Save the model to a file\n",
    "with open('model.pkl', 'wb') as file:\n",
    "    pickle.dump(classifier, file)"
   ]
  }
 ],
 "metadata": {
  "kernelspec": {
   "display_name": "Python 3",
   "language": "python",
   "name": "python3"
  },
  "language_info": {
   "codemirror_mode": {
    "name": "ipython",
    "version": 3
   },
   "file_extension": ".py",
   "mimetype": "text/x-python",
   "name": "python",
   "nbconvert_exporter": "python",
   "pygments_lexer": "ipython3",
   "version": "3.12.0"
  }
 },
 "nbformat": 4,
 "nbformat_minor": 5
}
